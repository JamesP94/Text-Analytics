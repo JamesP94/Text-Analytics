{
 "cells": [
  {
   "cell_type": "markdown",
   "metadata": {},
   "source": [
    "## Wikipedia Names by Year\n",
    "\n",
    "See the README for the full description. In this assignment we'll pull all the names for people born in the 150 years ending in 2015. "
   ]
  },
  {
   "cell_type": "code",
   "execution_count": null,
   "metadata": {},
   "outputs": [],
   "source": [
    "import requests\n",
    "import pandas as pd\n",
    "from collections import Counter\n",
    "\n",
    "wikipedia_api_url = \"https://en.wikipedia.org/w/api.php\"\n"
   ]
  },
  {
   "cell_type": "code",
   "execution_count": 6,
   "metadata": {},
   "outputs": [],
   "source": [
    "# Create a function that creates a dictionary with the information\n",
    "# being requested from the Wikipedia API, then pulls the info\n",
    "def fetch_category_members(year):\n",
    "    \n",
    "    req = {\n",
    "        'action': 'query',\n",
    "        'format': 'json',\n",
    "        'list': 'categorymembers',\n",
    "        'cmlimit': 500,\n",
    "        'cmtitle': f'Category:{year}_births'\n",
    "    }\n",
    "\n",
    "    all_members = []\n",
    "\n",
    "    #Sends requests through Wikipedia API \n",
    "    while True:\n",
    "        r = requests.get(wikipedia_api_url, params=req)\n",
    "        data = r.json()\n",
    "\n",
    "        # Extract category members and add them to the all_members list\n",
    "        all_members.extend(data['query']['categorymembers'])\n",
    "\n",
    "        # Check if there's a 'cmcontinue' parameter in the response\n",
    "        if 'continue' in data and 'cmcontinue' in data['continue']:\n",
    "            # Update the req dictionary with the 'cmcontinue' value for the next request\n",
    "            req['cmcontinue'] = data['continue']['cmcontinue']\n",
    "        else:\n",
    "            # If there's no 'cmcontinue', it means we've fetched all the results, so break out of the loop\n",
    "            break\n",
    "\n",
    "    # Return a DataFrame for the year\n",
    "    return pd.DataFrame({\n",
    "        'Year': [year] * len(all_members),\n",
    "        'Name': [member['title'] for member in all_members]\n",
    "    })\n"
   ]
  },
  {
   "cell_type": "code",
   "execution_count": 8,
   "metadata": {},
   "outputs": [
    {
     "name": "stdout",
     "output_type": "stream",
     "text": [
      "         Year                           Name\n",
      "0        1860      Charles Wheaton Abbot Jr.\n",
      "1        1860             Frank Frost Abbott\n",
      "2        1860           William Louis Abbott\n",
      "3        1860        Robert Abdy (cricketer)\n",
      "4        1860                   Abe Masakoto\n",
      "...       ...                            ...\n",
      "1461002  2021                  Grace Warrior\n",
      "1461003  2022                Vinice Mabansag\n",
      "1461004  2022                   Aire Webster\n",
      "1461005  2023              Ernest Brooksbank\n",
      "1461006  2023  Prince François of Luxembourg\n",
      "\n",
      "[1461007 rows x 2 columns]\n"
     ]
    }
   ],
   "source": [
    "\n",
    "# Fetch data for each year and store each DataFrame in a list\n",
    "dfs = [fetch_category_members(year) for year in range(1860, 2024)]\n",
    "\n",
    "# Concatenate all DataFrames\n",
    "final_df = pd.concat(dfs, ignore_index=True)\n"
   ]
  },
  {
   "cell_type": "code",
   "execution_count": 9,
   "metadata": {},
   "outputs": [
    {
     "name": "stdout",
     "output_type": "stream",
     "text": [
      "Year\n",
      "1988    18334\n",
      "1986    17832\n",
      "1990    17806\n",
      "1989    17736\n",
      "1987    17733\n",
      "1985    17691\n",
      "1991    17330\n",
      "1984    17255\n",
      "1992    17225\n",
      "1982    17037\n",
      "dtype: int64\n"
     ]
    }
   ],
   "source": [
    "# Group by 'Year', count names per year, sort in descending order and get top 10\n",
    "top_10_years = final_df.groupby('Year').size().sort_values(ascending=False).head(10)\n",
    "\n",
    "print(top_10_years)"
   ]
  },
  {
   "cell_type": "markdown",
   "metadata": {},
   "source": [
    "After extracting information using the Wikipedia API, storing that information in a dataframe for each year, and then concatinating those dataframes; the most common birth year for people who appear on Wikipedia is 1988."
   ]
  }
 ],
 "metadata": {
  "kernelspec": {
   "display_name": "Python 3",
   "language": "python",
   "name": "python3"
  },
  "language_info": {
   "codemirror_mode": {
    "name": "ipython",
    "version": 3
   },
   "file_extension": ".py",
   "mimetype": "text/x-python",
   "name": "python",
   "nbconvert_exporter": "python",
   "pygments_lexer": "ipython3",
   "version": "3.11.5"
  }
 },
 "nbformat": 4,
 "nbformat_minor": 2
}
